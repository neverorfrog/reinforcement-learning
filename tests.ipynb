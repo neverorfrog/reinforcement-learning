{
 "cells": [
  {
   "cell_type": "code",
   "execution_count": 29,
   "metadata": {},
   "outputs": [
    {
     "name": "stdout",
     "output_type": "stream",
     "text": [
      "[2, 4]\n",
      "tensor([[ 5.,  6.],\n",
      "        [ 9., 10.]], dtype=torch.float64)\n"
     ]
    }
   ],
   "source": [
    "import numpy as np\n",
    "import torch\n",
    "import random\n",
    "\n",
    "x = {'hi': np.empty([5,2])}\n",
    "\n",
    "x['hi'][0] = np.array([1,2])\n",
    "x['hi'][1] = np.array([3,4])\n",
    "x['hi'][2] = np.array([5,6])\n",
    "x['hi'][3] = np.array([7,8])\n",
    "x['hi'][4] = np.array([9,10])\n",
    "\n",
    "indices = random.sample(range(5), 2)\n",
    "print(indices)\n",
    "\n",
    "print(torch.as_tensor(x['hi'][indices]))"
   ]
  },
  {
   "cell_type": "code",
   "execution_count": 4,
   "metadata": {},
   "outputs": [
    {
     "name": "stdout",
     "output_type": "stream",
     "text": [
      "[0.70116938 0.39414073 0.72170246 0.44115421 0.30410546]\n"
     ]
    },
    {
     "data": {
      "text/plain": [
       "(array([0, 1, 3, 4]),)"
      ]
     },
     "execution_count": 4,
     "metadata": {},
     "output_type": "execute_result"
    }
   ],
   "source": [
    "import numpy as np\n",
    "print(np.random.uniform(size=5))\n",
    "np.where(np.random.uniform(size=5) < 0.8)"
   ]
  },
  {
   "cell_type": "code",
   "execution_count": 5,
   "metadata": {},
   "outputs": [
    {
     "data": {
      "text/plain": [
       "3"
      ]
     },
     "execution_count": 5,
     "metadata": {},
     "output_type": "execute_result"
    }
   ],
   "source": [
    "import numpy as np\n",
    "import torch\n",
    "import random\n",
    "\n",
    "x = {'hi': np.empty([10,2])}\n",
    "x['hi'][0]\n",
    "indices = np.random.randint(10,size = 3)\n",
    "x['hi'][indices]\n",
    "np.random.uniform(size=5)\n",
    "\n",
    "np.random.randint(10, size=3)[0]"
   ]
  }
 ],
 "metadata": {
  "kernelspec": {
   "display_name": "Python 3",
   "language": "python",
   "name": "python3"
  },
  "language_info": {
   "codemirror_mode": {
    "name": "ipython",
    "version": 3
   },
   "file_extension": ".py",
   "mimetype": "text/x-python",
   "name": "python",
   "nbconvert_exporter": "python",
   "pygments_lexer": "ipython3",
   "version": "3.10.12"
  },
  "orig_nbformat": 4
 },
 "nbformat": 4,
 "nbformat_minor": 2
}
