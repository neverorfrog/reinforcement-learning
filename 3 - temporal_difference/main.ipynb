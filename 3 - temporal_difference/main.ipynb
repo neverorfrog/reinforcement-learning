{
 "cells": [
  {
   "cell_type": "code",
   "execution_count": 5,
   "metadata": {},
   "outputs": [
    {
     "name": "stdout",
     "output_type": "stream",
     "text": [
      "| A |___|___|___|___|\n",
      "|___|___|___|___|___|\n",
      "|___|///|___|___|///|\n",
      "|___|///|___|___|///|\n",
      "|___|___|___|///| G |\n",
      "\n",
      "\n",
      "| > | > | v | > | > |\n",
      "| > | > | v | < | ^ |\n",
      "| < | > | ^ | ^ | > |\n",
      "| < | > | ^ | > | < |\n",
      "| > | ^ | ^ | < | ^ |\n",
      "\n",
      "\n"
     ]
    }
   ],
   "source": [
    "import sys\n",
    "sys.path.insert(0,\"..\")\n",
    "from tools.gridworld import *\n",
    "from tools.trainer import *\n",
    "from sarsa import *\n",
    "import random\n",
    "\n",
    "env = GridWorld(5,5)\n",
    "env.render()\n",
    "policy, _ = sarsa(env, 1000)\n",
    "env.renderpolicy(policy)"
   ]
  }
 ],
 "metadata": {
  "kernelspec": {
   "display_name": "Python 3",
   "language": "python",
   "name": "python3"
  },
  "language_info": {
   "codemirror_mode": {
    "name": "ipython",
    "version": 3
   },
   "file_extension": ".py",
   "mimetype": "text/x-python",
   "name": "python",
   "nbconvert_exporter": "python",
   "pygments_lexer": "ipython3",
   "version": "3.10.12"
  },
  "orig_nbformat": 4
 },
 "nbformat": 4,
 "nbformat_minor": 2
}
